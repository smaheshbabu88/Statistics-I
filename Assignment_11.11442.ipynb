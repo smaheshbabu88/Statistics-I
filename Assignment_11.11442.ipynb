{
 "cells": [
  {
   "cell_type": "markdown",
   "metadata": {},
   "source": [
    "# Statistics Assignment 11.1"
   ]
  },
  {
   "cell_type": "markdown",
   "metadata": {},
   "source": [
    "## Problem Statement 1:"
   ]
  },
  {
   "cell_type": "markdown",
   "metadata": {},
   "source": [
    "### You survey households in your area to find the average rent they are paying. Find the standard deviation from the following data:\n",
    "\n",
    "### 1550, 1700, 900, 850, 1000, 950."
   ]
  },
  {
   "cell_type": "code",
   "execution_count": 1,
   "metadata": {},
   "outputs": [
    {
     "name": "stdout",
     "output_type": "stream",
     "text": [
      "Mean:  1158.3333333333333\n",
      "Variance:  135416.6666666667\n",
      "Standard Deviation:  367.99003609699366\n",
      "==================================================\n",
      "Mean:  1158.3333333333333\n",
      "Variance:  135416.66666666666\n",
      "Standard Deviation:  367.9900360969936\n"
     ]
    }
   ],
   "source": [
    "import statistics as stat\n",
    "\n",
    "def Calc_Mean(data):\n",
    "    return (sum(data)/(len(data)))\n",
    "\n",
    "def Calc_Variance(data):\n",
    "    m = Calc_Mean(data)\n",
    "    return sum((x - m) ** 2 for x in data) / (len(data)-1)\n",
    "\n",
    "def Calc_Std_Dev(data):\n",
    "    return Calc_Variance(data) ** 0.5\n",
    "\n",
    "rent_list = [1550, 1700, 900, 850, 1000, 950]\n",
    "print(\"Mean: \", Calc_Mean(rent_list))\n",
    "print(\"Variance: \", Calc_Variance(rent_list))\n",
    "print(\"Standard Deviation: \", Calc_Std_Dev(rent_list))\n",
    "print('='*50)\n",
    "print(\"Mean: \", stat.mean(rent_list))\n",
    "print(\"Variance: \", stat.variance(rent_list))\n",
    "print(\"Standard Deviation: \", stat.stdev(rent_list))"
   ]
  },
  {
   "cell_type": "markdown",
   "metadata": {},
   "source": [
    "## Problem Statement 2: "
   ]
  },
  {
   "cell_type": "markdown",
   "metadata": {},
   "source": [
    "### Find the variance for the following set of data representing trees in California (heights in               feet): "
   ]
  },
  {
   "cell_type": "markdown",
   "metadata": {},
   "source": [
    "### 3, 21, 98, 203, 17, 9 "
   ]
  },
  {
   "cell_type": "code",
   "execution_count": 2,
   "metadata": {},
   "outputs": [
    {
     "name": "stdout",
     "output_type": "stream",
     "text": [
      "Mean:  58.5\n",
      "Variance:  6219.9\n",
      "Standard Deviation:  78.86634263106157\n",
      "==================================================\n",
      "Mean:  58.5\n",
      "Variance:  6219.9\n",
      "Standard Deviation:  78.86634263106157\n"
     ]
    }
   ],
   "source": [
    "import statistics as stat\n",
    "\n",
    "def Calc_Mean(data):\n",
    "    return (sum(data)/(len(data)))\n",
    "\n",
    "def Calc_Variance(data):\n",
    "    m = Calc_Mean(data)\n",
    "    return sum((x - m) ** 2 for x in data) / (len(data)-1)\n",
    "\n",
    "def Calc_Std_Dev(data):\n",
    "    return Calc_Variance(data) ** 0.5\n",
    "\n",
    "tree_height = [3, 21, 98, 203, 17, 9]\n",
    "print(\"Mean: \", Calc_Mean(tree_height))\n",
    "print(\"Variance: \", Calc_Variance(tree_height))\n",
    "print(\"Standard Deviation: \", Calc_Std_Dev(tree_height))\n",
    "print('='*50)\n",
    "print(\"Mean: \", stat.mean(tree_height))\n",
    "print(\"Variance: \", stat.variance(tree_height))\n",
    "print(\"Standard Deviation: \", stat.stdev(tree_height))\n",
    "\n",
    "\n"
   ]
  },
  {
   "cell_type": "markdown",
   "metadata": {},
   "source": [
    "## Problem Statement 3:"
   ]
  },
  {
   "cell_type": "markdown",
   "metadata": {},
   "source": [
    "### In a class on 100 students, 80 students passed in all subjects, 10 failed in one subject, 7                  failed in two subjects and 3 failed in three subjects. Find the probability distribution of               the variable for number of subjects a student from the given class has failed in. "
   ]
  },
  {
   "cell_type": "markdown",
   "metadata": {},
   "source": [
    "#### Solution:\n",
    "\n",
    "Total students(n) = 100\n",
    "\n",
    "No. of students passed all subjects = 80\n",
    "\n",
    "No. of students failed in one subject = 10\n",
    "\n",
    "No. of students failed in two subjects = 7\n",
    "\n",
    "No. of students failed in three subjects = 3"
   ]
  },
  {
   "cell_type": "markdown",
   "metadata": {},
   "source": [
    "Let x (Random Variable) = number of students failed in "
   ]
  },
  {
   "cell_type": "markdown",
   "metadata": {},
   "source": [
    "Probability of students failing in 0 subjects = P(x=0) = 80/100 = 0.8"
   ]
  },
  {
   "cell_type": "markdown",
   "metadata": {},
   "source": [
    "Probability of students failing in 1 subject = P(x=1) = 10/100 = 0.1"
   ]
  },
  {
   "cell_type": "markdown",
   "metadata": {},
   "source": [
    "Probability of students failing in 2 subjects = P(x=2) = 7/100 = 0.07"
   ]
  },
  {
   "cell_type": "markdown",
   "metadata": {},
   "source": [
    "Probability of students failing in 3 subjects = P(x=3) = 3/100 = 0.03"
   ]
  },
  {
   "cell_type": "code",
   "execution_count": null,
   "metadata": {},
   "outputs": [],
   "source": []
  }
 ],
 "metadata": {
  "kernelspec": {
   "display_name": "Python 3",
   "language": "python",
   "name": "python3"
  },
  "language_info": {
   "codemirror_mode": {
    "name": "ipython",
    "version": 3
   },
   "file_extension": ".py",
   "mimetype": "text/x-python",
   "name": "python",
   "nbconvert_exporter": "python",
   "pygments_lexer": "ipython3",
   "version": "3.7.0"
  }
 },
 "nbformat": 4,
 "nbformat_minor": 2
}
