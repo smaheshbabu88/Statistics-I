{
 "cells": [
  {
   "cell_type": "markdown",
   "metadata": {},
   "source": [
    "#### Problem Statement 1:\n",
    "You survey households in your area to find the average rent they are paying. Find the\n",
    "standard deviation from the following data:\n",
    "$1550, $1700, $900, $850, $1000, $950."
   ]
  },
  {
   "cell_type": "code",
   "execution_count": 2,
   "metadata": {},
   "outputs": [
    {
     "name": "stdout",
     "output_type": "stream",
     "text": [
      "355.1994744740857\n"
     ]
    }
   ],
   "source": [
    "import numpy as np\n",
    "\n",
    "avg_rent = [1550,1770,900,850,1000,950]\n",
    "\n",
    "std_dev_rent = np.std(avg_rent)\n",
    "print(std_dev_rent)"
   ]
  },
  {
   "cell_type": "markdown",
   "metadata": {},
   "source": [
    "#### Problem Statement 2:\n",
    "Find the variance for the following set of data representing trees in California (heights in\n",
    "feet):\n",
    "3, 21, 98, 203, 17, 9"
   ]
  },
  {
   "cell_type": "code",
   "execution_count": 6,
   "metadata": {},
   "outputs": [
    {
     "name": "stdout",
     "output_type": "stream",
     "text": [
      "5183.25\n"
     ]
    }
   ],
   "source": [
    "trees = [3,21,98,203,17,9]\n",
    "var_trees = np.var(trees)\n",
    "print(var_trees)"
   ]
  },
  {
   "cell_type": "markdown",
   "metadata": {},
   "source": [
    "#### Problem Statement 3:\n",
    "In a class on 100 students, 80 students passed in all subjects, 10 failed in one subject, 7\n",
    "failed in two subjects and 3 failed in three subjects. Find the probability distribution of\n",
    "the variable for number of subjects a student from the given class has failed in."
   ]
  },
  {
   "cell_type": "code",
   "execution_count": 9,
   "metadata": {},
   "outputs": [
    {
     "name": "stdout",
     "output_type": "stream",
     "text": [
      "The probability of failing in 0 subjects, P(X=0) = 0.8\n",
      "The probability of failing in 0 subjects, P(X=1) = 0.1\n",
      "The probability of failing in 0 subjects, P(X=2) = 0.07\n",
      "The probability of failing in 0 subjects, P(X=3) = 0.03\n"
     ]
    }
   ],
   "source": [
    "# Let X denote the number of subjects a student has failed in\n",
    "\n",
    "#The probability of failing in 0 subjects, P(X=0) = 0.8\n",
    "\n",
    "#The probability of failing in 1 subjects, P(X=1) = 0.1\n",
    "\n",
    "#The probability of failing in 2 subjects, P(X=2) = 0.07\n",
    "\n",
    "#The probability of failing in 3 subjects, P(X=3) = 0.03\n",
    "\n",
    "total_students = 100\n",
    "all_passed = 80\n",
    "one_failed = 10\n",
    "two_failed = 7\n",
    "three_failed = 3\n",
    "\n",
    "prob_passing = all_passed/total_students\n",
    "prob_failing_one = one_failed/total_students\n",
    "prob_failing_two = two_failed/total_students\n",
    "prob_failing_three = three_failed/total_students\n",
    "\n",
    "print(\"The probability of failing in 0 subjects, P(X=0) =\",prob_passing)\n",
    "print(\"The probability of failing in 0 subjects, P(X=1) =\",prob_failing_one)\n",
    "print(\"The probability of failing in 0 subjects, P(X=2) =\",prob_failing_two)\n",
    "print(\"The probability of failing in 0 subjects, P(X=3) =\",prob_failing_three)"
   ]
  },
  {
   "cell_type": "code",
   "execution_count": null,
   "metadata": {},
   "outputs": [],
   "source": []
  }
 ],
 "metadata": {
  "kernelspec": {
   "display_name": "Python 3",
   "language": "python",
   "name": "python3"
  },
  "language_info": {
   "codemirror_mode": {
    "name": "ipython",
    "version": 3
   },
   "file_extension": ".py",
   "mimetype": "text/x-python",
   "name": "python",
   "nbconvert_exporter": "python",
   "pygments_lexer": "ipython3",
   "version": "3.6.8"
  }
 },
 "nbformat": 4,
 "nbformat_minor": 2
}
