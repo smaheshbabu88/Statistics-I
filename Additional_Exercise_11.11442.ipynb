{
 "cells": [
  {
   "cell_type": "markdown",
   "metadata": {},
   "source": [
    "#### Problem Statement 1: [50 marks]\n",
    "The marks awarded for an assignment set for a Year 8 class of 20 students were as follows:\n",
    "6 7 5 7 7 8 7 6 9 7 4 10 6 8 8 9 5 6 4 8\n",
    "\n",
    "Calculate the mean, median, mode and standard deviation for the problem statement 1"
   ]
  },
  {
   "cell_type": "code",
   "execution_count": 6,
   "metadata": {},
   "outputs": [
    {
     "name": "stdout",
     "output_type": "stream",
     "text": [
      "The mean of given marks awarded is = 6.85\n",
      "The median of given marks awarded is = 7.0\n",
      "The mode of given marks awarded is = 7\n",
      "The Standard deviation of given marks awarded is = 1.5898113095584647\n"
     ]
    }
   ],
   "source": [
    "import numpy as np\n",
    "from statistics import mode\n",
    "marks_awarded = [6,7,5,7,7,8,7,6,9,7,4,10,6,8,8,9,5,6,4,8]\n",
    "\n",
    "marks_mean = np.mean(marks_awarded)\n",
    "marks_median = np.median(marks_awarded)\n",
    "marks_mode = mode(marks_awarded)\n",
    "marks_SD = np.std(marks_awarded)\n",
    "\n",
    "\n",
    "print (\"The mean of given marks awarded is =\",marks_mean)\n",
    "print (\"The median of given marks awarded is =\",marks_median)\n",
    "print (\"The mode of given marks awarded is =\",marks_mode)\n",
    "print (\"The Standard deviation of given marks awarded is =\",marks_SD)"
   ]
  },
  {
   "cell_type": "markdown",
   "metadata": {},
   "source": [
    "### Problem Statement 2: [50 marks]\n",
    "\n",
    "The number of calls from motorists per day for roadside service was recorded for a particular month:\n",
    "28, 122, 217, 130, 120, 86, 80, 90, 140, 120, 70, 40, 145, 113, 90, 68, 174, 194, 170, 100, 75, 104, 97, 75,\n",
    "123, 100, 75, 104, 97, 75, 123, 100, 89, 120, 109\n",
    "Calculate the mean, median, mode and standard deviation for the problem statements 1&"
   ]
  },
  {
   "cell_type": "code",
   "execution_count": 8,
   "metadata": {},
   "outputs": [
    {
     "name": "stdout",
     "output_type": "stream",
     "text": [
      "The mean of given calls for roadside service is = 107.51428571428572\n",
      "The median of given calls for roadside service is = 100.0\n",
      "The mode of given calls for roadside service is = 75\n",
      "The Standard deviation of given calls for roadside service is = 38.77287080168403\n"
     ]
    }
   ],
   "source": [
    "import numpy as np\n",
    "from statistics import mode\n",
    "\n",
    "calls = [28, 122, 217, 130, 120, 86, 80, 90, 140, 120, 70, 40, 145, 113, 90, 68, 174, 194, 170, 100, 75, 104, 97, 75,\n",
    "123, 100, 75, 104, 97, 75, 123, 100, 89, 120, 109]\n",
    "\n",
    "calls_mean = np.mean(calls)\n",
    "calls_median = np.median(calls)\n",
    "calls_mode = mode(calls)\n",
    "calls_SD = np.std(calls)\n",
    "\n",
    "\n",
    "print (\"The mean of given calls for roadside service is =\",calls_mean)\n",
    "print (\"The median of given calls for roadside service is =\",calls_median)\n",
    "print (\"The mode of given calls for roadside service is =\",calls_mode)\n",
    "print (\"The Standard deviation of given calls for roadside service is =\",calls_SD)"
   ]
  },
  {
   "cell_type": "markdown",
   "metadata": {},
   "source": [
    "#### Problem Statement 3: [100 marks]\n",
    "The number of times I go to the gym in weekdays, are given below along with its associated probability:\n",
    "x = 0, 1, 2, 3, 4, 5\n",
    "f(x) = 0.09, 0.15, 0.40, 0.25, 0.10, 0.01\n",
    "Calculate the mean no. of workouts in a week. Also evaluate the variance involved in it."
   ]
  },
  {
   "cell_type": "code",
   "execution_count": 18,
   "metadata": {},
   "outputs": [
    {
     "name": "stdout",
     "output_type": "stream",
     "text": [
      "The mean num of workouts in a week is = 2.15\n",
      "The variance for num of workouts in a week is = 1.2275\n"
     ]
    }
   ],
   "source": [
    "x = [0, 1, 2, 3, 4, 5]\n",
    "f_x = [0.09, 0.15, 0.40, 0.25, 0.10, 0.01]\n",
    "\n",
    "mean = 0\n",
    "mean_x2 = 0\n",
    "\n",
    "for num in range(6):\n",
    "    mean += x[num] * f_x[num]\n",
    "    mean_x2 += (x[num]**2) * f_x[num]\n",
    "\n",
    "#Var[X] = E[X2] – E2[X]\n",
    "variance = mean_x2 - (mean ** 2)\n",
    "print(\"The mean num of workouts in a week is =\",mean)\n",
    "print(\"The variance for num of workouts in a week is =\",variance)"
   ]
  },
  {
   "cell_type": "markdown",
   "metadata": {},
   "source": [
    "#### Problem Statement 4: [100 marks]\n",
    "Let the continuous random variable D denote the diameter of the hole drilled in an aluminum sheet. The\n",
    "target diameter to be achieved is 12.5mm. Random disturbances in the process often result in inaccuracy.\n",
    "Historical data shows that the distribution of D can be modelled by the PDF f(d) = 20e\n",
    "−20(d−12.5)\n",
    ", d ≥\n",
    "12.5. If a part with diameter > 12.6 mm needs to be scrapped, what is the proportion of those parts? What\n",
    "is the CDF when the diameter is of 11 mm? What is your conclusion regarding the proportion of scraps?"
   ]
  },
  {
   "cell_type": "code",
   "execution_count": null,
   "metadata": {},
   "outputs": [],
   "source": []
  }
 ],
 "metadata": {
  "kernelspec": {
   "display_name": "Python 3",
   "language": "python",
   "name": "python3"
  },
  "language_info": {
   "codemirror_mode": {
    "name": "ipython",
    "version": 3
   },
   "file_extension": ".py",
   "mimetype": "text/x-python",
   "name": "python",
   "nbconvert_exporter": "python",
   "pygments_lexer": "ipython3",
   "version": "3.6.8"
  }
 },
 "nbformat": 4,
 "nbformat_minor": 2
}
