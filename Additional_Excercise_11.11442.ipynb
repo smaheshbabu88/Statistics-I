{
 "cells": [
  {
   "cell_type": "markdown",
   "metadata": {},
   "source": [
    "## Additional_Excercise_11.11442"
   ]
  },
  {
   "cell_type": "markdown",
   "metadata": {},
   "source": [
    "### Problem Statement 1: "
   ]
  },
  {
   "cell_type": "markdown",
   "metadata": {},
   "source": [
    "#### The marks awarded for an assignment set for a Year 8 class of 20 students were as follows: \n",
    "6    7     5     7     7     8     7     6     9     7 4     10     6     8     8     9     5     6     4     8 \n",
    "\n",
    "Calculate the mean, median, mode and standard deviation. "
   ]
  },
  {
   "cell_type": "code",
   "execution_count": 1,
   "metadata": {},
   "outputs": [],
   "source": [
    "s = [6, 7, 5, 7, 7, 8, 7, 6, 9, 7, 4, 10, 6, 8, 8, 9, 5, 6, 4, 8]"
   ]
  },
  {
   "cell_type": "code",
   "execution_count": 2,
   "metadata": {},
   "outputs": [],
   "source": [
    "import statistics as stat\n",
    "\n",
    "def Calc_Mean(data):\n",
    "    return (sum(data)/(len(data)))\n",
    "\n",
    "def Calc_Median(data):\n",
    "    data.sort()\n",
    "    if len(data) % 2 == 0:\n",
    "        val = int(len(data)/2)\n",
    "        return (data[val-1] + data[val])/2\n",
    "    else:\n",
    "        index = int(len(data)/2)\n",
    "        return data[index]\n",
    "        \n",
    "def Calc_Mode(data):\n",
    "    return max(data, key=data.count)\n",
    "\n",
    "def Calc_Variance(data):\n",
    "    m = Calc_Mean(data)\n",
    "    return sum((x - m) ** 2 for x in data) / (len(data)-1)\n",
    "\n",
    "def Calc_Std_Dev(data):\n",
    "    return Calc_Variance(data) ** 0.5"
   ]
  },
  {
   "cell_type": "code",
   "execution_count": 3,
   "metadata": {},
   "outputs": [
    {
     "name": "stdout",
     "output_type": "stream",
     "text": [
      "Mean:  6.85\n",
      "Median:  7.0\n",
      "Mode:  7\n",
      "Variance:  2.660526315789474\n",
      "Standard Deviation:  1.6311119875071343\n",
      "==================================================\n",
      "Mean:  6.85\n",
      "Median:  7.0\n",
      "Mode:  7\n",
      "Variance:  2.6605263157894736\n",
      "Standard Deviation:  1.6311119875071343\n"
     ]
    }
   ],
   "source": [
    "print(\"Mean: \", Calc_Mean(s))\n",
    "print(\"Median: \", Calc_Median(s))\n",
    "print(\"Mode: \", Calc_Mode(s))\n",
    "print(\"Variance: \", Calc_Variance(s))\n",
    "print(\"Standard Deviation: \", Calc_Std_Dev(s))\n",
    "print('='*50)\n",
    "print(\"Mean: \", stat.mean(s))\n",
    "print(\"Median: \", stat.median(s))\n",
    "print(\"Mode: \", stat.mode(s))\n",
    "print(\"Variance: \", stat.variance(s))\n",
    "print(\"Standard Deviation: \", stat.stdev(s))"
   ]
  },
  {
   "cell_type": "markdown",
   "metadata": {},
   "source": [
    "### Problem Statement 2:"
   ]
  },
  {
   "cell_type": "markdown",
   "metadata": {},
   "source": [
    "#### The number of calls from motorists per day for roadside service was recorded for a particular month:\n",
    "\n",
    "28, 122, 217, 130, 120, 86, 80, 90, 140, 120, 70, 40, 145, 113, 90, 68, 174, 194, 170, 100, 75, 104, 97, 75, 123, 100, 75, 104, 97, 75, 123, 100, 89, 120, 109\n",
    "\n",
    "Calculate the mean, median, mode and standard deviation. "
   ]
  },
  {
   "cell_type": "code",
   "execution_count": 4,
   "metadata": {},
   "outputs": [],
   "source": [
    "s = [28, 122, 217, 130, 120, 86, 80, 90, 140, 120, 70, 40, 145, 113, 90, 68, 174, 194, 170, 100, 75, 104, 97, 75, 123, 100, 75, 104, 97, 75, 123, 100, 89, 120, 109]"
   ]
  },
  {
   "cell_type": "code",
   "execution_count": 5,
   "metadata": {},
   "outputs": [],
   "source": [
    "import statistics as stat\n",
    "\n",
    "def Calc_Mean(data):\n",
    "    return (sum(data)/(len(data)))\n",
    "\n",
    "def Calc_Median(data):\n",
    "    data.sort()\n",
    "    if len(data) % 2 == 0:\n",
    "        val = int(len(data)/2)\n",
    "        return (data[val-1] + data[val])/2\n",
    "    else:\n",
    "        index = int(len(data)/2)\n",
    "        return data[index]\n",
    "        \n",
    "def Calc_Mode(data):\n",
    "    return max(data, key=data.count)\n",
    "\n",
    "def Calc_Variance(data):\n",
    "    m = Calc_Mean(data)\n",
    "    return sum((x - m) ** 2 for x in data) / (len(data)-1)\n",
    "\n",
    "def Calc_Std_Dev(data):\n",
    "    return Calc_Variance(data) ** 0.5"
   ]
  },
  {
   "cell_type": "code",
   "execution_count": 6,
   "metadata": {},
   "outputs": [
    {
     "name": "stdout",
     "output_type": "stream",
     "text": [
      "Mean:  107.51428571428572\n",
      "Median:  100\n",
      "Mode:  75\n",
      "Variance:  1547.5512605042018\n",
      "Standard Deviation:  39.33892805484412\n",
      "==================================================\n",
      "Mean:  107.51428571428572\n",
      "Median:  100\n",
      "Mode:  75\n",
      "Variance:  1547.5512605042018\n",
      "Standard Deviation:  39.33892805484412\n"
     ]
    }
   ],
   "source": [
    "print(\"Mean: \", Calc_Mean(s))\n",
    "print(\"Median: \", Calc_Median(s))\n",
    "print(\"Mode: \", Calc_Mode(s))\n",
    "print(\"Variance: \", Calc_Variance(s))\n",
    "print(\"Standard Deviation: \", Calc_Std_Dev(s))\n",
    "print('='*50)\n",
    "print(\"Mean: \", stat.mean(s))\n",
    "print(\"Median: \", stat.median(s))\n",
    "print(\"Mode: \", stat.mode(s))\n",
    "print(\"Variance: \", stat.variance(s))\n",
    "print(\"Standard Deviation: \", stat.stdev(s))"
   ]
  },
  {
   "cell_type": "markdown",
   "metadata": {},
   "source": [
    "### Problem Statement 3:"
   ]
  },
  {
   "cell_type": "markdown",
   "metadata": {},
   "source": [
    "#### The number of times I go to the gym in weekdays, are given below along with its associated probability:\n",
    "x = 0, 1, 2, 3, 4, 5\n",
    "\n",
    "f(x) = 0.09, 0.15, 0.40, 0.25, 0.10, 0.01\n",
    "\n",
    "Calculate the mean no. of workouts in a week. Also evaluate the variance involved in it."
   ]
  },
  {
   "cell_type": "markdown",
   "metadata": {},
   "source": [
    "#### Solution"
   ]
  },
  {
   "cell_type": "markdown",
   "metadata": {},
   "source": [
    "![PS_3_Solution_image.png](files/PS_3_Solution_image.png)"
   ]
  },
  {
   "cell_type": "markdown",
   "metadata": {},
   "source": [
    "Mean = 2.15\n",
    "\n",
    "Variance = 1.2275"
   ]
  },
  {
   "cell_type": "markdown",
   "metadata": {},
   "source": [
    "### Problem Statement 4:"
   ]
  },
  {
   "cell_type": "markdown",
   "metadata": {},
   "source": [
    "Let the continuous random variable D denote the diameter of the hole drilled in an aluminum sheet. The\n",
    "target diameter to be achieved is 12.5mm. Random disturbances in the process often result in inaccuracy.\n",
    "Historical data shows that the distribution of D can be modelled by the PDF 𝑓(𝑑) = 20𝑒−20(𝑑−12.5), 𝑑 ≥\n",
    "12.5. If a part with diameter > 12.6 mm needs to be scrapped, what is the proportion of those parts? What\n",
    "is the CDF when the diameter is of 11 mm? What is your conclusion regarding the proportion of scraps?"
   ]
  },
  {
   "cell_type": "markdown",
   "metadata": {},
   "source": [
    "#### Solution"
   ]
  },
  {
   "attachments": {
    "image.png": {
     "image/png": "[encoded data removed]"
    }
   },
   "cell_type": "markdown",
   "metadata": {},
   "source": [
    "![image.png](attachment:image.png)"
   ]
  },
  {
   "cell_type": "markdown",
   "metadata": {},
   "source": [
    "##### If a part with diameter > 12.6 mm needs to be scrapped, what is the proportion of those parts?"
   ]
  },
  {
   "cell_type": "markdown",
   "metadata": {},
   "source": [
    "![PS_4_Solution_image_1.png](files/PS_4_Solution_image_1.png)"
   ]
  },
  {
   "cell_type": "markdown",
   "metadata": {},
   "source": [
    "The proportion of scraps is 0.1353. \n",
    "So 13.53% of parts will be scrapped based on the provided historical data."
   ]
  },
  {
   "cell_type": "markdown",
   "metadata": {},
   "source": [
    "##### What is the CDF when the diameter is of 11 mm?"
   ]
  },
  {
   "cell_type": "markdown",
   "metadata": {},
   "source": [
    "![PS_4_Solution_image_2.png](files/PS_4_Solution_image_2.png)"
   ]
  },
  {
   "cell_type": "markdown",
   "metadata": {},
   "source": [
    "Until diameter 12.5mm, none will be scrapped."
   ]
  },
  {
   "cell_type": "code",
   "execution_count": null,
   "metadata": {},
   "outputs": [],
   "source": []
  }
 ],
 "metadata": {
  "kernelspec": {
   "display_name": "Python 3",
   "language": "python",
   "name": "python3"
  },
  "language_info": {
   "codemirror_mode": {
    "name": "ipython",
    "version": 3
   },
   "file_extension": ".py",
   "mimetype": "text/x-python",
   "name": "python",
   "nbconvert_exporter": "python",
   "pygments_lexer": "ipython3",
   "version": "3.7.0"
  }
 },
 "nbformat": 4,
 "nbformat_minor": 2
}
